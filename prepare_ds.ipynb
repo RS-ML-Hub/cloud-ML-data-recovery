{
 "cells": [
  {
   "cell_type": "markdown",
   "metadata": {},
   "source": [
    "# Cloud Inpainting on SEN3 Data\n",
    "This notebook is a quick test to load, mask with clouds and then try and recover the data hidden by clouds using an inpainting DL model"
   ]
  },
  {
   "cell_type": "code",
   "execution_count": null,
   "metadata": {},
   "outputs": [],
   "source": [
    "import utils.prepare_dataset as predat\n",
    "import matplotlib.pyplot as plt\n",
    "import numpy as np\n",
    "import tensorflow as tf\n",
    "from network.model import GenModel\n",
    "from network.loss import lossL1\n"
   ]
  },
  {
   "cell_type": "code",
   "execution_count": null,
   "metadata": {},
   "outputs": [],
   "source": [
    "ds,dsc = predat.prepare_dataset(low_bound=0, high_bound=15, num_clouds=1000, num_samples=1000)"
   ]
  },
  {
   "cell_type": "code",
   "execution_count": null,
   "metadata": {},
   "outputs": [],
   "source": [
    "for i in range(1,13):\n",
    "    plt.subplot(4,6,2*i-1)\n",
    "    plt.imshow(ds[\"Oa01_reflectance\"][i])\n",
    "    plt.subplot(4,6,2*i)\n",
    "    plt.imshow(dsc[\"Oa01_reflectance\"][i])"
   ]
  },
  {
   "cell_type": "markdown",
   "metadata": {},
   "source": [
    "## Extracting the bands from the Xarrays\n",
    "\n",
    "The goal here is to convert the data into a more tensorflow friendly data format"
   ]
  },
  {
   "cell_type": "code",
   "execution_count": null,
   "metadata": {},
   "outputs": [],
   "source": [
    "dsnp = np.ndarray((256,256,11,1000))\n",
    "dsnp_c = np.ndarray((256,256,11,1000))\n",
    "for i in range(1,12):\n",
    "    dsnp[:,:,i-1,:] = np.moveaxis(ds[\"Oa\"+str(i).zfill(2)+\"_reflectance\"].values,0,2)\n",
    "    dsnp_c[:,:,i-1,:] = np.moveaxis(dsc[\"Oa\"+str(i).zfill(2)+\"_reflectance\"].values,0,2)\n",
    "\n",
    "\n",
    "np.save('Ground_truth.npy', dsnp)\n",
    "np.save('Cloudy_DS.npy', dsnp_c)"
   ]
  }
 ],
 "metadata": {
  "kernelspec": {
   "display_name": "Python 3",
   "language": "python",
   "name": "python3"
  },
  "language_info": {
   "codemirror_mode": {
    "name": "ipython",
    "version": 3
   },
   "file_extension": ".py",
   "mimetype": "text/x-python",
   "name": "python",
   "nbconvert_exporter": "python",
   "pygments_lexer": "ipython3",
   "version": "3.10.12"
  }
 },
 "nbformat": 4,
 "nbformat_minor": 2
}
